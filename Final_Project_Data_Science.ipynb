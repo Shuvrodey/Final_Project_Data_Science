{
 "cells": [
  {
   "cell_type": "markdown",
   "metadata": {},
   "source": [
    "<center>\n",
    "    <img src=\"https://cf-courses-data.s3.us.cloud-object-storage.appdomain.cloud/IBMDeveloperSkillsNetwork-DS0105EN-SkillsNetwork/labs/Module2/images/SN_web_lightmode.png\" width=\"300\" alt=\"cognitiveclass.ai logo\">\n",
    "</center>\n"
   ]
  },
  {
   "cell_type": "code",
   "execution_count": null,
   "metadata": {},
   "outputs": [],
   "source": [
    "# Final Project: Introduction to Data Science with JupyterLite\n"
   ]
  },
  {
   "cell_type": "code",
   "execution_count": null,
   "metadata": {},
   "outputs": [],
   "source": [
    "## Introduction\n",
    "This notebook demonstrates basic components of a data science project using JupyterLite.\n",
    "It includes markdown descriptions, lists of languages and libraries, a tools table, simple arithmetic examples, and a couple of code cells to show execution.\n",
    "The notebook is written in English and prepared for public sharing on GitHub.\n"
   ]
  },
  {
   "cell_type": "code",
   "execution_count": null,
   "metadata": {},
   "outputs": [],
   "source": [
    "## Popular Data Science Languages\n",
    "- Python\n",
    "- R\n",
    "- SQL\n",
    "- Julia\n",
    "- Scala\n"
   ]
  },
  {
   "cell_type": "code",
   "execution_count": null,
   "metadata": {},
   "outputs": [],
   "source": [
    "## Common Data Science Libraries\n",
    "- NumPy (numerical computations)\n",
    "- pandas (data manipulation)\n",
    "- Matplotlib (visualization)\n",
    "- scikit-learn (machine learning)\n",
    "- TensorFlow / PyTorch (deep learning)\n",
    "- seaborn (statistical visualization)\n"
   ]
  },
  {
   "cell_type": "code",
   "execution_count": null,
   "metadata": {},
   "outputs": [],
   "source": [
    "## Data Science Tools\n",
    "\n",
    "| Tool Category       | Example Tools                      | Use Case                              |\n",
    "|---------------------|------------------------------------|---------------------------------------|\n",
    "| Notebooks           | Jupyter, JupyterLite               | Interactive coding & documentation    |\n",
    "| IDEs                | VS Code                            | Development & debugging               |\n",
    "| Cloud Platforms     | AWS, GCP, Azure                    | Scalable compute and storage          |\n",
    "| Databases           | PostgreSQL, MongoDB                | Structured & unstructured data        |\n",
    "| ML Platforms        | scikit-learn, TensorFlow           | Model training & deployment           |\n",
    "| Visualization Tools | Tableau, Power BI                  | Business reporting & dashboards       |\n"
   ]
  },
  {
   "cell_type": "code",
   "execution_count": null,
   "metadata": {},
   "outputs": [],
   "source": [
    "## Arithmetic Expression Examples\n",
    "Below are simple arithmetic examples (code cells) to demonstrate Python execution in the notebook.\n"
   ]
  },
  {
   "cell_type": "code",
   "execution_count": 1,
   "metadata": {},
   "outputs": [
    {
     "data": {
      "text/plain": [
       "(84, 19)"
      ]
     },
     "execution_count": 1,
     "metadata": {},
     "output_type": "execute_result"
    }
   ],
   "source": [
    "# Multiply and add example\n",
    "a = 12\n",
    "b = 7\n",
    "product = a * b\n",
    "sum_ = a + b\n",
    "product, sum_\n"
   ]
  },
  {
   "cell_type": "code",
   "execution_count": 2,
   "metadata": {},
   "outputs": [
    {
     "data": {
      "text/plain": [
       "'135 minutes = 2 hour(s) and 15 minute(s) (2.25 hours)'"
      ]
     },
     "execution_count": 2,
     "metadata": {},
     "output_type": "execute_result"
    }
   ],
   "source": [
    "# Convert minutes to hours\n",
    "minutes = 135\n",
    "hours = minutes // 60\n",
    "remaining_minutes = minutes % 60\n",
    "f\"{minutes} minutes = {hours} hour(s) and {remaining_minutes} minute(s) ({minutes/60:.2f} hours)\"\n"
   ]
  },
  {
   "cell_type": "code",
   "execution_count": null,
   "metadata": {},
   "outputs": [],
   "source": [
    "## Objectives\n",
    "1. Learn how to create and structure a JupyterLite notebook with markdown and code cells.  \n",
    "2. Demonstrate basic Python arithmetic operations in notebook code cells.  \n",
    "3. Prepare and share the notebook publicly via GitHub for peer review.  \n",
    "4. Understand how to document tools, languages, and libraries used in data science.\n"
   ]
  },
  {
   "cell_type": "code",
   "execution_count": null,
   "metadata": {},
   "outputs": [],
   "source": [
    "## Notes for the reviewer\n",
    "- This notebook contains at least 8 markdown cells and 2 code cells as required.  \n",
    "- `<SHUVRO DEY>` and `<19-September-2025>` \n"
   ]
  },
  {
   "cell_type": "code",
   "execution_count": null,
   "metadata": {},
   "outputs": [],
   "source": []
  }
 ],
 "metadata": {
  "kernelspec": {
   "display_name": "Python 3 (ipykernel)",
   "language": "python",
   "name": "python3"
  },
  "language_info": {
   "codemirror_mode": {
    "name": "ipython",
    "version": 3
   },
   "file_extension": ".py",
   "mimetype": "text/x-python",
   "name": "python",
   "nbconvert_exporter": "python",
   "pygments_lexer": "ipython3",
   "version": "3.12.8"
  }
 },
 "nbformat": 4,
 "nbformat_minor": 4
}
